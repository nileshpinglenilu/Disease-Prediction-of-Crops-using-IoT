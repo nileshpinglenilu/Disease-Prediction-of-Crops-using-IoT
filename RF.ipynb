{
  "cells": [
    {
      "cell_type": "markdown",
      "metadata": {
        "colab_type": "text",
        "id": "p1MKIJfAwfEG"
      },
      "source": [
        "**BASIC**"
      ]
    },
    {
      "cell_type": "code",
      "execution_count": null,
      "metadata": {
        "colab": {},
        "colab_type": "code",
        "id": "y6plaDCP-zHz"
      },
      "outputs": [],
      "source": [
        "#Basic\n",
        "import numpy as np\n",
        "import pandas as pd \n",
        "import matplotlib.pyplot as plt\n",
        "%matplotlib inline \n",
        "import seaborn as sns\n",
        "import os\n",
        "\n",
        "#Model\n",
        "from sklearn.model_selection import train_test_split\n",
        "from sklearn.ensemble import RandomForestClassifier \n",
        "from sklearn.tree import DecisionTreeClassifier\n",
        "from sklearn.tree import export_graphviz #plot tree\n",
        "\n",
        "#Model Evaluation\n",
        "from sklearn.metrics import roc_curve, auc\n",
        "from sklearn.metrics import classification_report \n",
        "from sklearn.metrics import confusion_matrix \n",
        "\n",
        "import eli5 #for attribute importance\n",
        "from eli5.sklearn import PermutationImportance"
      ]
    },
    {
      "cell_type": "code",
      "execution_count": null,
      "metadata": {
        "colab": {},
        "colab_type": "code",
        "id": "mD8vAgDEHrY_"
      },
      "outputs": [],
      "source": [
        "from google.colab import files\n",
        "files.upload()"
      ]
    },
    {
      "cell_type": "code",
      "execution_count": null,
      "metadata": {
        "colab": {
          "base_uri": "https://localhost:8080/",
          "height": 204
        },
        "colab_type": "code",
        "id": "TYbRemTDIIb-",
        "outputId": "ec99e852-b58d-4a74-ba69-0165a94697b5"
      },
      "outputs": [],
      "source": [
        "#Read Data\n",
        "data = pd.read_csv(\"./data.csv\")\n",
        "data.head()"
      ]
    },
    {
      "cell_type": "code",
      "execution_count": null,
      "metadata": {
        "colab": {
          "base_uri": "https://localhost:8080/",
          "height": 317
        },
        "colab_type": "code",
        "id": "9sQ389kVKXKG",
        "outputId": "3b45fa3f-bac8-4bf1-a196-f2765ddc396f"
      },
      "outputs": [],
      "source": [
        "data.describe()"
      ]
    },
    {
      "cell_type": "code",
      "execution_count": 22,
      "metadata": {
        "colab": {
          "base_uri": "https://localhost:8080/",
          "height": 34
        },
        "colab_type": "code",
        "id": "k31CQMY-KJBB",
        "outputId": "6249a2f8-14e8-4539-d2e6-3378f0f5d222"
      },
      "outputs": [
        {
          "data": {
            "text/plain": [
              "(303, 14)"
            ]
          },
          "execution_count": 22,
          "metadata": {
            "tags": []
          },
          "output_type": "execute_result"
        }
      ],
      "source": [
        "data.shape"
      ]
    },
    {
      "cell_type": "code",
      "execution_count": null,
      "metadata": {
        "colab": {},
        "colab_type": "code",
        "id": "-wvg9M2TLHJ1"
      },
      "outputs": [],
      "source": [
        "import pandas_profiling\n",
        "profile = pandas_profiling.ProfileReport(data)\n",
        "profile"
      ]
    },
    {
      "cell_type": "code",
      "execution_count": null,
      "metadata": {
        "colab": {
          "base_uri": "https://localhost:8080/",
          "height": 34
        },
        "colab_type": "code",
        "id": "4cQAXDGtqljU",
        "outputId": "0359f05a-75c9-4b96-e1cd-8edb46ec066b"
      },
      "outputs": [],
      "source": [
        "labels.shape"
      ]
    },
    {
      "cell_type": "code",
      "execution_count": null,
      "metadata": {
        "colab": {
          "base_uri": "https://localhost:8080/",
          "height": 85
        },
        "colab_type": "code",
        "id": "eVozwn5tqq0n",
        "outputId": "93e17b01-a292-4c77-a427-170a9e6aa191"
      },
      "outputs": [],
      "source": [
        "#Split Data\n",
        "x_train, x_test, y_train, y_test = train_test_split(data, labels, test_size = 0.2, random_state = 56)\n",
        "\n",
        "print(\"Shape of x_train :\", x_train.shape)\n",
        "print(\"Shape of x_test :\", x_test.shape)\n",
        "print(\"Shape of y_train :\", y_train.shape)\n",
        "print(\"Shape of y_test :\", y_test.shape)"
      ]
    },
    {
      "cell_type": "code",
      "execution_count": null,
      "metadata": {
        "colab": {},
        "colab_type": "code",
        "id": "FnczS394rJFm"
      },
      "outputs": [],
      "source": [
        "#Run Model\n",
        "model = RandomForestClassifier(max_depth = 5)\n",
        "model.fit(x_train, y_train)\n",
        "y_predict = model.predict(x_test)\n",
        "y_pred_quant = model.predict_proba(x_test)[:, 1] #store predicted probabilites\n",
        "y_pred = model.predict(x_test)\n"
      ]
    },
    {
      "cell_type": "code",
      "execution_count": 48,
      "metadata": {
        "colab": {
          "base_uri": "https://localhost:8080/",
          "height": 51
        },
        "colab_type": "code",
        "id": "o_UxfXf8tHvX",
        "outputId": "cb0627cf-c1f9-43ee-fe09-2b7b7f811221"
      },
      "outputs": [
        {
          "name": "stdout",
          "output_type": "stream",
          "text": [
            "Training Accuracy : 0.9338842975206612\n",
            "Testing Accuracy : 0.8360655737704918\n"
          ]
        }
      ],
      "source": [
        "#Accuracy\n",
        "print(\"Training Accuracy :\", model.score(x_train, y_train))\n",
        "print(\"Testing Accuracy :\", model.score(x_test, y_test))"
      ]
    },
    {
      "cell_type": "code",
      "execution_count": 74,
      "metadata": {
        "colab": {
          "base_uri": "https://localhost:8080/",
          "height": 352
        },
        "colab_type": "code",
        "id": "AIurquXBuJFU",
        "outputId": "86f6302a-8762-4d76-fdef-cb7e3adb19f4"
      },
      "outputs": [
        {
          "data": {
            "image/png": "[encoded data removed]",
            "text/plain": [
              "<Figure size 360x360 with 2 Axes>"
            ]
          },
          "metadata": {
            "tags": []
          },
          "output_type": "display_data"
        }
      ],
      "source": [
        "#Confusion Matrix\n",
        "cm = confusion_matrix(y_test, y_pred)\n",
        "plt.rcParams['figure.figsize'] = (5, 5)\n",
        "sns.heatmap(cm, annot = True, annot_kws = {'size':15}, cmap = 'PuBu')\n",
        "plt.title('Confusion Matrix for Decision Tree Model', y = 1.1)\n",
        "plt.ylabel('Actual Label')\n",
        "plt.xlabel('Predicted Label')\n",
        "plt.show()"
      ]
    },
    {
      "cell_type": "code",
      "execution_count": 61,
      "metadata": {
        "colab": {
          "base_uri": "https://localhost:8080/",
          "height": 170
        },
        "colab_type": "code",
        "id": "mWdSmj49uMkC",
        "outputId": "066cec82-cc3e-4f2a-dc16-8cec82b70ed8"
      },
      "outputs": [
        {
          "name": "stdout",
          "output_type": "stream",
          "text": [
            "              precision    recall  f1-score   support\n",
            "\n",
            "           0       0.82      0.82      0.82        28\n",
            "           1       0.85      0.85      0.85        33\n",
            "\n",
            "    accuracy                           0.84        61\n",
            "   macro avg       0.83      0.83      0.83        61\n",
            "weighted avg       0.84      0.84      0.84        61\n",
            "\n"
          ]
        }
      ],
      "source": [
        "#Classification Report\n",
        "cr = classification_report(y_test, y_pred)\n",
        "print(cr)"
      ]
    },
    {
      "cell_type": "code",
      "execution_count": null,
      "metadata": {
        "colab": {
          "base_uri": "https://localhost:8080/",
          "height": 503
        },
        "colab_type": "code",
        "id": "Ts-FEEj0vyeF",
        "outputId": "b7cd6bf2-5140-431b-c050-ff6c3547e431"
      },
      "outputs": [],
      "source": [
        "estimator = model.estimators_[1]\n",
        "\n",
        "estimator = model.estimators_[1]\n",
        "feature_names = [i for i in x_train.columns]\n",
        "\n",
        "y_train_str = y_train.astype('str')\n",
        "y_train_str[y_train_str == '0'] = 'no disease'\n",
        "y_train_str[y_train_str == '1'] = 'disease'\n",
        "y_train_str = y_train_str.values\n",
        "\n",
        "export_graphviz(estimator, out_file='tree.dot', \n",
        "                feature_names = feature_names,\n",
        "                class_names = y_train_str,\n",
        "                rounded = True, proportion = True, \n",
        "                label='root',\n",
        "                precision = 2, filled = True)\n",
        "\n",
        "from subprocess import call\n",
        "\n",
        "from IPython.display import Image\n"
      ]
    },
    {
      "cell_type": "code",
      "execution_count": 69,
      "metadata": {
        "colab": {
          "base_uri": "https://localhost:8080/",
          "height": 51
        },
        "colab_type": "code",
        "id": "EIlKGnWZAIt9",
        "outputId": "e21bdfa7-baef-4354-d243-6b6380da509f"
      },
      "outputs": [
        {
          "name": "stdout",
          "output_type": "stream",
          "text": [
            "Sensitivity :  0.8214285714285714\n",
            "Specificity :  0.8484848484848485\n"
          ]
        }
      ],
      "source": [
        "#Sensitivity and Specificity\n",
        "total=sum(sum(cm))\n",
        "\n",
        "sensitivity = cm[0,0]/(cm[0,0]+cm[1,0])\n",
        "print('Sensitivity : ', sensitivity )\n",
        "\n",
        "specificity = cm[1,1]/(cm[1,1]+cm[0,1])\n",
        "print('Specificity : ', specificity)"
      ]
    },
    {
      "cell_type": "code",
      "execution_count": null,
      "metadata": {
        "colab": {
          "base_uri": "https://localhost:8080/",
          "height": 352
        },
        "colab_type": "code",
        "id": "V4XiFx1EAreA",
        "outputId": "a2d70745-04c6-4b27-8c8a-af7cb896163a"
      },
      "outputs": [],
      "source": [
        "falsepr, truepr, thresholds = roc_curve(y_test, y_pred_quant) #Create true and false positive rates\n",
        "\n",
        "fig, ax = plt.subplots()\n",
        "ax.plot(falsepr, truepr)\n",
        "ax.plot([0, 1], [0, 1], transform=ax.transAxes, ls=\"-\", c=\".3\")\n",
        "plt.xlim([0.0, 1.0])\n",
        "plt.ylim([0.0, 1.0])\n",
        "\n",
        "plt.rcParams['figure.figsize'] = (15, 5)\n",
        "plt.title('ROC curve for diabetes classifier', fontweight = 30)\n",
        "plt.xlabel('False Positive Rate (1 - Specificity)')\n",
        "plt.ylabel('True Positive Rate (Sensitivity)')\n",
        "plt.show()"
      ]
    },
    {
      "cell_type": "code",
      "execution_count": 71,
      "metadata": {
        "colab": {
          "base_uri": "https://localhost:8080/",
          "height": 34
        },
        "colab_type": "code",
        "id": "BXorZFe5BJSc",
        "outputId": "16aab31b-555a-4a79-af9d-9985c299644b"
      },
      "outputs": [
        {
          "name": "stdout",
          "output_type": "stream",
          "text": [
            "AUC Score : 0.9383116883116883\n"
          ]
        }
      ],
      "source": [
        "#Area Under Curve\n",
        "auc = auc(falsepr, truepr)\n",
        "print(\"AUC Score :\", auc)"
      ]
    },
    {
      "cell_type": "markdown",
      "metadata": {
        "colab_type": "text",
        "id": "Pd58KlegC4Cv"
      },
      "source": [
        "**ANALYSIS**"
      ]
    },
    {
      "cell_type": "code",
      "execution_count": null,
      "metadata": {
        "colab": {
          "base_uri": "https://localhost:8080/",
          "height": 357
        },
        "colab_type": "code",
        "id": "fEzBMSzqC26X",
        "outputId": "b0f386ad-7901-4b28-ddca-bd3d775377c0"
      },
      "outputs": [],
      "source": [
        "#Weights/Importance of each feature\n",
        "perm = PermutationImportance(model, random_state = 0).fit(x_test, y_test)\n",
        "eli5.show_weights(perm, feature_names = x_test.columns.tolist())"
      ]
    }
  ],
  "metadata": {
    "colab": {
      "collapsed_sections": [],
      "name": "Heart Disease.ipynb",
      "provenance": []
    },
    "kernelspec": {
      "display_name": "Python 3",
      "name": "python3"
    }
  },
  "nbformat": 4,
  "nbformat_minor": 0
}
