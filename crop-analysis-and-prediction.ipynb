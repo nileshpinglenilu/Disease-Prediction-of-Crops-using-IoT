{
 "cells": [
  {
   "cell_type": "code",
   "execution_count": null,
   "id": "humanitarian-reservoir",
   "metadata": {
    "_cell_guid": "b1076dfc-b9ad-4769-8c92-a6c4dae69d19",
    "_uuid": "8f2839f25d086af736a60e9eeb907d3b93b6e0e5",
    "execution": {
     "iopub.execute_input": "2021-06-02T16:01:01.324038Z",
     "iopub.status.busy": "2021-06-02T16:01:01.323402Z",
     "iopub.status.idle": "2021-06-02T16:01:01.344560Z",
     "shell.execute_reply": "2021-06-02T16:01:01.343912Z",
     "shell.execute_reply.started": "2021-05-27T17:18:52.72529Z"
    },
    "papermill": {
     "duration": 0.067113,
     "end_time": "2021-06-02T16:01:01.344777",
     "exception": false,
     "start_time": "2021-06-02T16:01:01.277664",
     "status": "completed"
    },
    "tags": []
   },
   "outputs": [],
   "source": [
    "\n",
    "\n",
    "import numpy as np\n",
    "import pandas as pd \n",
    "\n",
    "\n",
    "\n",
    "import os\n",
    "for dirname, _, filenames in os.walk('input'):\n",
    "    for filename in filenames:\n",
    "        print(os.path.join(dirname, filename))\n"
   ]
  },
  {
   "cell_type": "code",
   "execution_count": 2,
   "id": "soviet-ghost",
   "metadata": {
    "execution": {
     "iopub.execute_input": "2021-06-02T16:01:01.423615Z",
     "iopub.status.busy": "2021-06-02T16:01:01.422937Z",
     "iopub.status.idle": "2021-06-02T16:01:02.252746Z",
     "shell.execute_reply": "2021-06-02T16:01:02.253276Z",
     "shell.execute_reply.started": "2021-05-27T17:18:52.747525Z"
    },
    "papermill": {
     "duration": 0.872225,
     "end_time": "2021-06-02T16:01:02.253511",
     "exception": false,
     "start_time": "2021-06-02T16:01:01.381286",
     "status": "completed"
    },
    "tags": []
   },
   "outputs": [],
   "source": [
    "import warnings\n",
    "warnings.simplefilter(action='ignore', category=FutureWarning)\n",
    "warnings.simplefilter(action='ignore', category=UserWarning)\n",
    "import seaborn as sns\n",
    "import matplotlib.pyplot as plt\n",
    "%matplotlib inline"
   ]
  },
  {
   "cell_type": "code",
   "execution_count": 3,
   "id": "dated-amazon",
   "metadata": {
    "execution": {
     "iopub.execute_input": "2021-06-02T16:01:02.330191Z",
     "iopub.status.busy": "2021-06-02T16:01:02.329409Z",
     "iopub.status.idle": "2021-06-02T16:01:02.382030Z",
     "shell.execute_reply": "2021-06-02T16:01:02.382528Z",
     "shell.execute_reply.started": "2021-05-27T17:18:53.683278Z"
    },
    "papermill": {
     "duration": 0.092913,
     "end_time": "2021-06-02T16:01:02.382748",
     "exception": false,
     "start_time": "2021-06-02T16:01:02.289835",
     "status": "completed"
    },
    "tags": []
   },
   "outputs": [
    {
     "data": {
      "text/html": [
       "<div>\n",
       "<style scoped>\n",
       "    .dataframe tbody tr th:only-of-type {\n",
       "        vertical-align: middle;\n",
       "    }\n",
       "\n",
       "    .dataframe tbody tr th {\n",
       "        vertical-align: top;\n",
       "    }\n",
       "\n",
       "    .dataframe thead th {\n",
       "        text-align: right;\n",
       "    }\n",
       "</style>\n",
       "<table border=\"1\" class=\"dataframe\">\n",
       "  <thead>\n",
       "    <tr style=\"text-align: right;\">\n",
       "      <th></th>\n",
       "      <th>N</th>\n",
       "      <th>P</th>\n",
       "      <th>K</th>\n",
       "      <th>temperature</th>\n",
       "      <th>humidity</th>\n",
       "      <th>ph</th>\n",
       "      <th>rainfall</th>\n",
       "      <th>label</th>\n",
       "    </tr>\n",
       "  </thead>\n",
       "  <tbody>\n",
       "    <tr>\n",
       "      <th>0</th>\n",
       "      <td>90</td>\n",
       "      <td>42</td>\n",
       "      <td>43</td>\n",
       "      <td>20.879744</td>\n",
       "      <td>82.002744</td>\n",
       "      <td>6.502985</td>\n",
       "      <td>202.935536</td>\n",
       "      <td>rice</td>\n",
       "    </tr>\n",
       "    <tr>\n",
       "      <th>1</th>\n",
       "      <td>85</td>\n",
       "      <td>58</td>\n",
       "      <td>41</td>\n",
       "      <td>21.770462</td>\n",
       "      <td>80.319644</td>\n",
       "      <td>7.038096</td>\n",
       "      <td>226.655537</td>\n",
       "      <td>rice</td>\n",
       "    </tr>\n",
       "    <tr>\n",
       "      <th>2</th>\n",
       "      <td>60</td>\n",
       "      <td>55</td>\n",
       "      <td>44</td>\n",
       "      <td>23.004459</td>\n",
       "      <td>82.320763</td>\n",
       "      <td>7.840207</td>\n",
       "      <td>263.964248</td>\n",
       "      <td>rice</td>\n",
       "    </tr>\n",
       "    <tr>\n",
       "      <th>3</th>\n",
       "      <td>74</td>\n",
       "      <td>35</td>\n",
       "      <td>40</td>\n",
       "      <td>26.491096</td>\n",
       "      <td>80.158363</td>\n",
       "      <td>6.980401</td>\n",
       "      <td>242.864034</td>\n",
       "      <td>rice</td>\n",
       "    </tr>\n",
       "    <tr>\n",
       "      <th>4</th>\n",
       "      <td>78</td>\n",
       "      <td>42</td>\n",
       "      <td>42</td>\n",
       "      <td>20.130175</td>\n",
       "      <td>81.604873</td>\n",
       "      <td>7.628473</td>\n",
       "      <td>262.717340</td>\n",
       "      <td>rice</td>\n",
       "    </tr>\n",
       "  </tbody>\n",
       "</table>\n",
       "</div>"
      ],
      "text/plain": [
       "    N   P   K  temperature   humidity        ph    rainfall label\n",
       "0  90  42  43    20.879744  82.002744  6.502985  202.935536  rice\n",
       "1  85  58  41    21.770462  80.319644  7.038096  226.655537  rice\n",
       "2  60  55  44    23.004459  82.320763  7.840207  263.964248  rice\n",
       "3  74  35  40    26.491096  80.158363  6.980401  242.864034  rice\n",
       "4  78  42  42    20.130175  81.604873  7.628473  262.717340  rice"
      ]
     },
     "execution_count": 3,
     "metadata": {},
     "output_type": "execute_result"
    }
   ],
   "source": [
    "df=pd.read_csv('../input/crop-recommendation-dataset/Crop_recommendation.csv')\n",
    "df.head()"
   ]
  },
  {
   "cell_type": "code",
   "execution_count": 4,
   "id": "legal-colon",
   "metadata": {
    "execution": {
     "iopub.execute_input": "2021-06-02T16:01:02.460763Z",
     "iopub.status.busy": "2021-06-02T16:01:02.459936Z",
     "iopub.status.idle": "2021-06-02T16:01:02.496023Z",
     "shell.execute_reply": "2021-06-02T16:01:02.496472Z",
     "shell.execute_reply.started": "2021-05-27T17:18:53.732085Z"
    },
    "papermill": {
     "duration": 0.076515,
     "end_time": "2021-06-02T16:01:02.496702",
     "exception": false,
     "start_time": "2021-06-02T16:01:02.420187",
     "status": "completed"
    },
    "tags": []
   },
   "outputs": [
    {
     "data": {
      "text/html": [
       "<div>\n",
       "<style scoped>\n",
       "    .dataframe tbody tr th:only-of-type {\n",
       "        vertical-align: middle;\n",
       "    }\n",
       "\n",
       "    .dataframe tbody tr th {\n",
       "        vertical-align: top;\n",
       "    }\n",
       "\n",
       "    .dataframe thead th {\n",
       "        text-align: right;\n",
       "    }\n",
       "</style>\n",
       "<table border=\"1\" class=\"dataframe\">\n",
       "  <thead>\n",
       "    <tr style=\"text-align: right;\">\n",
       "      <th></th>\n",
       "      <th>N</th>\n",
       "      <th>P</th>\n",
       "      <th>K</th>\n",
       "      <th>temperature</th>\n",
       "      <th>humidity</th>\n",
       "      <th>ph</th>\n",
       "      <th>rainfall</th>\n",
       "    </tr>\n",
       "  </thead>\n",
       "  <tbody>\n",
       "    <tr>\n",
       "      <th>count</th>\n",
       "      <td>2200.000000</td>\n",
       "      <td>2200.000000</td>\n",
       "      <td>2200.000000</td>\n",
       "      <td>2200.000000</td>\n",
       "      <td>2200.000000</td>\n",
       "      <td>2200.000000</td>\n",
       "      <td>2200.000000</td>\n",
       "    </tr>\n",
       "    <tr>\n",
       "      <th>mean</th>\n",
       "      <td>50.551818</td>\n",
       "      <td>53.362727</td>\n",
       "      <td>48.149091</td>\n",
       "      <td>25.616244</td>\n",
       "      <td>71.481779</td>\n",
       "      <td>6.469480</td>\n",
       "      <td>103.463655</td>\n",
       "    </tr>\n",
       "    <tr>\n",
       "      <th>std</th>\n",
       "      <td>36.917334</td>\n",
       "      <td>32.985883</td>\n",
       "      <td>50.647931</td>\n",
       "      <td>5.063749</td>\n",
       "      <td>22.263812</td>\n",
       "      <td>0.773938</td>\n",
       "      <td>54.958389</td>\n",
       "    </tr>\n",
       "    <tr>\n",
       "      <th>min</th>\n",
       "      <td>0.000000</td>\n",
       "      <td>5.000000</td>\n",
       "      <td>5.000000</td>\n",
       "      <td>8.825675</td>\n",
       "      <td>14.258040</td>\n",
       "      <td>3.504752</td>\n",
       "      <td>20.211267</td>\n",
       "    </tr>\n",
       "    <tr>\n",
       "      <th>25%</th>\n",
       "      <td>21.000000</td>\n",
       "      <td>28.000000</td>\n",
       "      <td>20.000000</td>\n",
       "      <td>22.769375</td>\n",
       "      <td>60.261953</td>\n",
       "      <td>5.971693</td>\n",
       "      <td>64.551686</td>\n",
       "    </tr>\n",
       "    <tr>\n",
       "      <th>50%</th>\n",
       "      <td>37.000000</td>\n",
       "      <td>51.000000</td>\n",
       "      <td>32.000000</td>\n",
       "      <td>25.598693</td>\n",
       "      <td>80.473146</td>\n",
       "      <td>6.425045</td>\n",
       "      <td>94.867624</td>\n",
       "    </tr>\n",
       "    <tr>\n",
       "      <th>75%</th>\n",
       "      <td>84.250000</td>\n",
       "      <td>68.000000</td>\n",
       "      <td>49.000000</td>\n",
       "      <td>28.561654</td>\n",
       "      <td>89.948771</td>\n",
       "      <td>6.923643</td>\n",
       "      <td>124.267508</td>\n",
       "    </tr>\n",
       "    <tr>\n",
       "      <th>max</th>\n",
       "      <td>140.000000</td>\n",
       "      <td>145.000000</td>\n",
       "      <td>205.000000</td>\n",
       "      <td>43.675493</td>\n",
       "      <td>99.981876</td>\n",
       "      <td>9.935091</td>\n",
       "      <td>298.560117</td>\n",
       "    </tr>\n",
       "  </tbody>\n",
       "</table>\n",
       "</div>"
      ],
      "text/plain": [
       "                 N            P            K  temperature     humidity  \\\n",
       "count  2200.000000  2200.000000  2200.000000  2200.000000  2200.000000   \n",
       "mean     50.551818    53.362727    48.149091    25.616244    71.481779   \n",
       "std      36.917334    32.985883    50.647931     5.063749    22.263812   \n",
       "min       0.000000     5.000000     5.000000     8.825675    14.258040   \n",
       "25%      21.000000    28.000000    20.000000    22.769375    60.261953   \n",
       "50%      37.000000    51.000000    32.000000    25.598693    80.473146   \n",
       "75%      84.250000    68.000000    49.000000    28.561654    89.948771   \n",
       "max     140.000000   145.000000   205.000000    43.675493    99.981876   \n",
       "\n",
       "                ph     rainfall  \n",
       "count  2200.000000  2200.000000  \n",
       "mean      6.469480   103.463655  \n",
       "std       0.773938    54.958389  \n",
       "min       3.504752    20.211267  \n",
       "25%       5.971693    64.551686  \n",
       "50%       6.425045    94.867624  \n",
       "75%       6.923643   124.267508  \n",
       "max       9.935091   298.560117  "
      ]
     },
     "execution_count": 4,
     "metadata": {},
     "output_type": "execute_result"
    }
   ],
   "source": [
    "df.describe()"
   ]
  },
  {
   "cell_type": "code",
   "execution_count": 6,
   "id": "ordinary-johns",
   "metadata": {
    "execution": {
     "iopub.execute_input": "2021-06-02T16:01:03.231621Z",
     "iopub.status.busy": "2021-06-02T16:01:03.230968Z",
     "iopub.status.idle": "2021-06-02T16:01:03.611875Z",
     "shell.execute_reply": "2021-06-02T16:01:03.612349Z",
     "shell.execute_reply.started": "2021-05-27T17:18:54.230226Z"
    },
    "papermill": {
     "duration": 0.421299,
     "end_time": "2021-06-02T16:01:03.612537",
     "exception": false,
     "start_time": "2021-06-02T16:01:03.191238",
     "status": "completed"
    },
    "tags": []
   },
   "outputs": [
    {
     "data": {
      "text/plain": [
       "<AxesSubplot:xlabel='ph', ylabel='Density'>"
      ]
     },
     "execution_count": 6,
     "metadata": {},
     "output_type": "execute_result"
    },
    {
     "data": {
      "image/png": "[encoded data removed]",
      "text/plain": [
       "<Figure size 864x360 with 2 Axes>"
      ]
     },
     "metadata": {
      "needs_background": "light"
     },
     "output_type": "display_data"
    }
   ],
   "source": [
    "plt.figure(figsize=(12,5))\n",
    "plt.subplot(1, 2, 1)\n",
    "# sns.distplot(df_setosa['sepal_length'],kde=True,color='green',bins=20,hist_kws={'alpha':0.3})\n",
    "sns.distplot(df['temperature'],color=\"purple\",bins=15,hist_kws={'alpha':0.2})\n",
    "plt.subplot(1, 2, 2)\n",
    "sns.distplot(df['ph'],color=\"green\",bins=15,hist_kws={'alpha':0.2})"
   ]
  },
  {
   "cell_type": "markdown",
   "id": "contrary-drive",
   "metadata": {
    "papermill": {
     "duration": 0.070675,
     "end_time": "2021-06-02T16:01:41.400258",
     "exception": false,
     "start_time": "2021-06-02T16:01:41.329583",
     "status": "completed"
    },
    "tags": []
   },
   "source": [
    "#### During rainy season, average rainfall is high (average 120 mm) and temperature is mildly chill (less than 30'C).\n",
    "\n",
    "#### Rain affects soil moisture which affects ph of the soil. Here are the crops which are likely to be planted during this season. \n",
    "\n",
    "- <b> Rice needs heavy rainfall (>200 mm) and a humidity above 80%. No wonder major rice production in India comes from East Coasts which has average of 220 mm rainfall every year!\n",
    "- <b> Coconut is a tropical crop and needs high humidity therefore explaining massive exports from coastal areas around the country."
   ]
  },
  {
   "cell_type": "code",
   "execution_count": null,
   "id": "equipped-timeline",
   "metadata": {
    "execution": {
     "iopub.execute_input": "2021-06-02T16:01:41.546621Z",
     "iopub.status.busy": "2021-06-02T16:01:41.545551Z",
     "iopub.status.idle": "2021-06-02T16:01:42.466762Z",
     "shell.execute_reply": "2021-06-02T16:01:42.466170Z",
     "shell.execute_reply.started": "2021-05-27T17:19:36.582995Z"
    },
    "papermill": {
     "duration": 0.99531,
     "end_time": "2021-06-02T16:01:42.466916",
     "exception": false,
     "start_time": "2021-06-02T16:01:41.471606",
     "status": "completed"
    },
    "tags": []
   },
   "outputs": [],
   "source": [
    "sns.jointplot(x=\"rainfall\",y=\"humidity\",data=df[(df['temperature']<30) & (df['rainfall']>120)],hue=\"label\")"
   ]
  },
  {
   "cell_type": "code",
   "execution_count": null,
   "id": "dental-mistake",
   "metadata": {
    "execution": {
     "iopub.execute_input": "2021-06-02T16:01:42.823346Z",
     "iopub.status.busy": "2021-06-02T16:01:42.796886Z",
     "iopub.status.idle": "2021-06-02T16:01:43.445699Z",
     "shell.execute_reply": "2021-06-02T16:01:43.446183Z",
     "shell.execute_reply.started": "2021-05-27T17:19:37.594996Z"
    },
    "papermill": {
     "duration": 0.757535,
     "end_time": "2021-06-02T16:01:43.446364",
     "exception": false,
     "start_time": "2021-06-02T16:01:42.688829",
     "status": "completed"
    },
    "tags": []
   },
   "outputs": [],
   "source": [
    "sns.jointplot(x=\"K\",y=\"N\",data=df[(df['N']>40)&(df['K']>40)],hue=\"label\")"
   ]
  },
  {
   "cell_type": "code",
   "execution_count": null,
   "id": "a7ef7299",
   "metadata": {},
   "outputs": [],
   "source": []
  },
  {
   "cell_type": "code",
   "execution_count": null,
   "id": "violent-contractor",
   "metadata": {
    "execution": {
     "iopub.execute_input": "2021-06-02T16:01:43.810803Z",
     "iopub.status.busy": "2021-06-02T16:01:43.803273Z",
     "iopub.status.idle": "2021-06-02T16:01:45.123098Z",
     "shell.execute_reply": "2021-06-02T16:01:45.123583Z",
     "shell.execute_reply.started": "2021-05-27T17:19:38.367992Z"
    },
    "papermill": {
     "duration": 1.449974,
     "end_time": "2021-06-02T16:01:45.123750",
     "exception": false,
     "start_time": "2021-06-02T16:01:43.673776",
     "status": "completed"
    },
    "tags": []
   },
   "outputs": [],
   "source": [
    "sns.jointplot(x=\"K\",y=\"humidity\",data=df,hue='label',size=8,s=30,alpha=0.7)"
   ]
  },
  {
   "cell_type": "code",
   "execution_count": null,
   "id": "social-spanking",
   "metadata": {
    "execution": {
     "iopub.execute_input": "2021-06-02T16:01:45.443644Z",
     "iopub.status.busy": "2021-06-02T16:01:45.442988Z",
     "iopub.status.idle": "2021-06-02T16:01:45.947606Z",
     "shell.execute_reply": "2021-06-02T16:01:45.947059Z",
     "shell.execute_reply.started": "2021-05-27T17:19:39.899118Z"
    },
    "papermill": {
     "duration": 0.590324,
     "end_time": "2021-06-02T16:01:45.947744",
     "exception": false,
     "start_time": "2021-06-02T16:01:45.357420",
     "status": "completed"
    },
    "tags": []
   },
   "outputs": [],
   "source": [
    "sns.boxplot(y='label',x='ph',data=df)"
   ]
  },
  {
   "cell_type": "code",
   "execution_count": null,
   "id": "center-mercy",
   "metadata": {
    "execution": {
     "iopub.execute_input": "2021-06-02T16:01:46.328353Z",
     "iopub.status.busy": "2021-06-02T16:01:46.309292Z",
     "iopub.status.idle": "2021-06-02T16:01:46.498653Z",
     "shell.execute_reply": "2021-06-02T16:01:46.498015Z",
     "shell.execute_reply.started": "2021-05-27T17:19:40.46782Z"
    },
    "papermill": {
     "duration": 0.311645,
     "end_time": "2021-06-02T16:01:46.498789",
     "exception": false,
     "start_time": "2021-06-02T16:01:46.187144",
     "status": "completed"
    },
    "tags": []
   },
   "outputs": [],
   "source": [
    "sns.boxplot(y='label',x='P',data=df[df['rainfall']>150])"
   ]
  },
  {
   "cell_type": "code",
   "execution_count": null,
   "id": "particular-exchange",
   "metadata": {
    "execution": {
     "iopub.execute_input": "2021-06-02T16:01:46.849181Z",
     "iopub.status.busy": "2021-06-02T16:01:46.834424Z",
     "iopub.status.idle": "2021-06-02T16:01:50.031607Z",
     "shell.execute_reply": "2021-06-02T16:01:50.032052Z",
     "shell.execute_reply.started": "2021-05-27T17:19:40.719561Z"
    },
    "papermill": {
     "duration": 3.293705,
     "end_time": "2021-06-02T16:01:50.032224",
     "exception": false,
     "start_time": "2021-06-02T16:01:46.738519",
     "status": "completed"
    },
    "tags": []
   },
   "outputs": [],
   "source": [
    "sns.lineplot(data = df[(df['humidity']<65)], x = \"K\", y = \"rainfall\",hue=\"label\")"
   ]
  },
  {
   "cell_type": "code",
   "execution_count": 15,
   "id": "sustained-tobago",
   "metadata": {
    "execution": {
     "iopub.execute_input": "2021-06-02T16:01:50.370943Z",
     "iopub.status.busy": "2021-06-02T16:01:50.370264Z",
     "iopub.status.idle": "2021-06-02T16:01:50.377938Z",
     "shell.execute_reply": "2021-06-02T16:01:50.378461Z",
     "shell.execute_reply.started": "2021-05-27T17:19:44.262645Z"
    },
    "papermill": {
     "duration": 0.094351,
     "end_time": "2021-06-02T16:01:50.378662",
     "exception": false,
     "start_time": "2021-06-02T16:01:50.284311",
     "status": "completed"
    },
    "tags": []
   },
   "outputs": [],
   "source": [
    "c=df.label.astype('category')\n",
    "targets = dict(enumerate(c.cat.categories))\n",
    "df['target']=c.cat.codes\n",
    "\n",
    "y=df.target\n",
    "X=df[['N','P','K','temperature','humidity','ph']]"
   ]
  },
  {
   "cell_type": "code",
   "execution_count": null,
   "id": "threaded-transport",
   "metadata": {
    "execution": {
     "iopub.execute_input": "2021-06-02T16:01:50.717661Z",
     "iopub.status.busy": "2021-06-02T16:01:50.716992Z",
     "iopub.status.idle": "2021-06-02T16:01:50.983010Z",
     "shell.execute_reply": "2021-06-02T16:01:50.982175Z",
     "shell.execute_reply.started": "2021-05-27T17:19:44.274437Z"
    },
    "papermill": {
     "duration": 0.352768,
     "end_time": "2021-06-02T16:01:50.983189",
     "exception": false,
     "start_time": "2021-06-02T16:01:50.630421",
     "status": "completed"
    },
    "tags": []
   },
   "outputs": [],
   "source": [
    "sns.heatmap(X.corr())"
   ]
  },
  {
   "cell_type": "code",
   "execution_count": 17,
   "id": "determined-marble",
   "metadata": {
    "execution": {
     "iopub.execute_input": "2021-06-02T16:01:51.330899Z",
     "iopub.status.busy": "2021-06-02T16:01:51.330174Z",
     "iopub.status.idle": "2021-06-02T16:01:51.540030Z",
     "shell.execute_reply": "2021-06-02T16:01:51.539272Z",
     "shell.execute_reply.started": "2021-05-27T17:19:44.630901Z"
    },
    "papermill": {
     "duration": 0.300047,
     "end_time": "2021-06-02T16:01:51.540197",
     "exception": false,
     "start_time": "2021-06-02T16:01:51.240150",
     "status": "completed"
    },
    "tags": []
   },
   "outputs": [],
   "source": [
    "from sklearn.model_selection import train_test_split\n",
    "from sklearn.preprocessing import MinMaxScaler\n",
    "\n",
    "X_train, X_test, y_train, y_test = train_test_split(X, y,random_state=1)\n",
    "\n",
    "scaler = MinMaxScaler()\n",
    "X_train_scaled = scaler.fit_transform(X_train)\n",
    "\n",
    "# we must apply the scaling to the test set as well that we are computing for the training set\n",
    "X_test_scaled = scaler.transform(X_test)"
   ]
  },
  {
   "cell_type": "code",
   "execution_count": 18,
   "id": "chronic-montgomery",
   "metadata": {
    "execution": {
     "iopub.execute_input": "2021-06-02T16:01:51.890163Z",
     "iopub.status.busy": "2021-06-02T16:01:51.889378Z",
     "iopub.status.idle": "2021-06-02T16:01:52.084696Z",
     "shell.execute_reply": "2021-06-02T16:01:52.084129Z",
     "shell.execute_reply.started": "2021-05-27T17:19:44.858654Z"
    },
    "papermill": {
     "duration": 0.285991,
     "end_time": "2021-06-02T16:01:52.084857",
     "exception": false,
     "start_time": "2021-06-02T16:01:51.798866",
     "status": "completed"
    },
    "tags": []
   },
   "outputs": [
    {
     "data": {
      "text/plain": [
       "0.9781818181818182"
      ]
     },
     "execution_count": 18,
     "metadata": {},
     "output_type": "execute_result"
    }
   ],
   "source": [
    "from sklearn.neighbors import KNeighborsClassifier\n",
    "knn = KNeighborsClassifier()\n",
    "knn.fit(X_train_scaled, y_train)\n",
    "knn.score(X_test_scaled, y_test)"
   ]
  },
  {
   "cell_type": "code",
   "execution_count": null,
   "id": "impaired-lincoln",
   "metadata": {
    "execution": {
     "iopub.execute_input": "2021-06-02T16:01:52.434272Z",
     "iopub.status.busy": "2021-06-02T16:01:52.433635Z",
     "iopub.status.idle": "2021-06-02T16:01:54.490743Z",
     "shell.execute_reply": "2021-06-02T16:01:54.490205Z",
     "shell.execute_reply.started": "2021-05-27T17:19:45.071161Z"
    },
    "papermill": {
     "duration": 2.148996,
     "end_time": "2021-06-02T16:01:54.490884",
     "exception": false,
     "start_time": "2021-06-02T16:01:52.341888",
     "status": "completed"
    },
    "tags": []
   },
   "outputs": [],
   "source": [
    "#models knn\n",
    "from sklearn.metrics import confusion_matrix\n",
    "mat=confusion_matrix(y_test,knn.predict(X_test_scaled))\n",
    "df_cm = pd.DataFrame(mat, list(targets.values()), list(targets.values()))\n",
    "sns.set(font_scale=1.0) # for label size\n",
    "plt.figure(figsize = (12,8))\n",
    "sns.heatmap(df_cm, annot=True, annot_kws={\"size\": 12},cmap=\"terrain\")"
   ]
  },
  {
   "cell_type": "code",
   "execution_count": 20,
   "id": "dated-consortium",
   "metadata": {
    "execution": {
     "iopub.execute_input": "2021-06-02T16:01:54.843104Z",
     "iopub.status.busy": "2021-06-02T16:01:54.842461Z",
     "iopub.status.idle": "2021-06-02T16:01:55.311442Z",
     "shell.execute_reply": "2021-06-02T16:01:55.311954Z",
     "shell.execute_reply.started": "2021-05-27T17:19:47.383233Z"
    },
    "papermill": {
     "duration": 0.559178,
     "end_time": "2021-06-02T16:01:55.312123",
     "exception": false,
     "start_time": "2021-06-02T16:01:54.752945",
     "status": "completed"
    },
    "tags": []
   },
   "outputs": [
    {
     "data": {
      "image/png": "[encoded data removed]",
      "text/plain": [
       "<Figure size 432x288 with 1 Axes>"
      ]
     },
     "metadata": {},
     "output_type": "display_data"
    }
   ],
   "source": [
    "#Let's try different values of n_neighbors to fine tune and get better results\n",
    "k_range = range(1,11)\n",
    "scores = []\n",
    "\n",
    "for k in k_range:\n",
    "    knn = KNeighborsClassifier(n_neighbors = k)\n",
    "    knn.fit(X_train_scaled, y_train)\n",
    "    scores.append(knn.score(X_test_scaled, y_test))\n",
    "\n",
    "plt.xlabel('k')\n",
    "plt.ylabel('accuracy')\n",
    "plt.scatter(k_range, scores)\n",
    "plt.vlines(k_range,0, scores, linestyle=\"dashed\")\n",
    "plt.ylim(0.96,0.99)\n",
    "plt.xticks([i for i in range(1,11)]);"
   ]
  },
  {
   "cell_type": "code",
   "execution_count": 24,
   "id": "pharmaceutical-priority",
   "metadata": {
    "execution": {
     "iopub.execute_input": "2021-06-02T16:02:03.117266Z",
     "iopub.status.busy": "2021-06-02T16:02:03.116648Z",
     "iopub.status.idle": "2021-06-02T16:02:03.174040Z",
     "shell.execute_reply": "2021-06-02T16:02:03.174481Z",
     "shell.execute_reply.started": "2021-05-27T17:19:54.321552Z"
    },
    "papermill": {
     "duration": 0.15019,
     "end_time": "2021-06-02T16:02:03.174680",
     "exception": false,
     "start_time": "2021-06-02T16:02:03.024490",
     "status": "completed"
    },
    "tags": []
   },
   "outputs": [
    {
     "data": {
      "text/plain": [
       "0.9872727272727273"
      ]
     },
     "execution_count": 24,
     "metadata": {},
     "output_type": "execute_result"
    }
   ],
   "source": [
    "#decision tree\n",
    "from sklearn.tree import DecisionTreeClassifier\n",
    "\n",
    "clf = DecisionTreeClassifier(random_state=42).fit(X_train, y_train)\n",
    "clf.score(X_test,y_test)"
   ]
  },
  {
   "cell_type": "code",
   "execution_count": null,
   "id": "worth-kuwait",
   "metadata": {
    "execution": {
     "iopub.execute_input": "2021-06-02T16:02:03.537299Z",
     "iopub.status.busy": "2021-06-02T16:02:03.536705Z",
     "iopub.status.idle": "2021-06-02T16:02:03.751960Z",
     "shell.execute_reply": "2021-06-02T16:02:03.752478Z",
     "shell.execute_reply.started": "2021-05-27T17:19:54.384732Z"
    },
    "papermill": {
     "duration": 0.307874,
     "end_time": "2021-06-02T16:02:03.752659",
     "exception": false,
     "start_time": "2021-06-02T16:02:03.444785",
     "status": "completed"
    },
    "tags": []
   },
   "outputs": [],
   "source": [
    "plt.figure(figsize=(10,4), dpi=80)\n",
    "c_features = len(X_train.columns)\n",
    "plt.barh(range(c_features), clf.feature_importances_)\n",
    "plt.xlabel(\"Feature importance\")\n",
    "plt.ylabel(\"Feature name\")\n",
    "plt.yticks(np.arange(c_features), X_train.columns)\n",
    "plt.show()"
   ]
  },
  {
   "cell_type": "code",
   "execution_count": 26,
   "id": "different-driving",
   "metadata": {
    "execution": {
     "iopub.execute_input": "2021-06-02T16:02:04.118021Z",
     "iopub.status.busy": "2021-06-02T16:02:04.117353Z",
     "iopub.status.idle": "2021-06-02T16:02:04.544793Z",
     "shell.execute_reply": "2021-06-02T16:02:04.544231Z",
     "shell.execute_reply.started": "2021-05-27T17:19:54.633347Z"
    },
    "papermill": {
     "duration": 0.520544,
     "end_time": "2021-06-02T16:02:04.544951",
     "exception": false,
     "start_time": "2021-06-02T16:02:04.024407",
     "status": "completed"
    },
    "tags": []
   },
   "outputs": [
    {
     "name": "stdout",
     "output_type": "stream",
     "text": [
      "RF Accuracy on training set: 0.97\n",
      "RF Accuracy on test set: 0.97\n"
     ]
    }
   ],
   "source": [
    "#Random forest\n",
    "\n",
    "from sklearn.ensemble import RandomForestClassifier\n",
    "clf = RandomForestClassifier(max_depth=4,n_estimators=100,random_state=42).fit(X_train, y_train)\n",
    "\n",
    "print('RF Accuracy on training set: {:.2f}'.format(clf.score(X_train, y_train)))\n",
    "print('RF Accuracy on test set: {:.2f}'.format(clf.score(X_test, y_test)))"
   ]
  },
  {
   "cell_type": "code",
   "execution_count": null,
   "id": "veterinary-restriction",
   "metadata": {
    "execution": {
     "iopub.execute_input": "2021-06-02T16:02:04.925302Z",
     "iopub.status.busy": "2021-06-02T16:02:04.924411Z",
     "iopub.status.idle": "2021-06-02T16:02:05.857483Z",
     "shell.execute_reply": "2021-06-02T16:02:05.857935Z",
     "shell.execute_reply.started": "2021-05-27T17:19:55.01038Z"
    },
    "papermill": {
     "duration": 1.032978,
     "end_time": "2021-06-02T16:02:05.858140",
     "exception": false,
     "start_time": "2021-06-02T16:02:04.825162",
     "status": "completed"
    },
    "tags": []
   },
   "outputs": [],
   "source": [
    "from yellowbrick.classifier import ClassificationReport\n",
    "classes=list(targets.values())\n",
    "visualizer = ClassificationReport(clf, classes=classes, support=True,cmap=\"Blues\")\n",
    "\n",
    "visualizer.fit(X_train, y_train)  # Fit the visualizer and the model\n",
    "visualizer.score(X_test, y_test)  # Evaluate the model on the test data\n",
    "visualizer.show()"
   ]
  },
  {
   "cell_type": "code",
   "execution_count": 28,
   "id": "certified-traveler",
   "metadata": {
    "execution": {
     "iopub.execute_input": "2021-06-02T16:02:06.245882Z",
     "iopub.status.busy": "2021-06-02T16:02:06.244955Z",
     "iopub.status.idle": "2021-06-02T16:02:16.220826Z",
     "shell.execute_reply": "2021-06-02T16:02:16.221613Z",
     "shell.execute_reply.started": "2021-05-27T17:19:56.081214Z"
    },
    "papermill": {
     "duration": 10.078227,
     "end_time": "2021-06-02T16:02:16.221864",
     "exception": false,
     "start_time": "2021-06-02T16:02:06.143637",
     "status": "completed"
    },
    "tags": []
   },
   "outputs": [
    {
     "name": "stdout",
     "output_type": "stream",
     "text": [
      "Gradient Boosting accuracy : 0.9945454545454545\n"
     ]
    }
   ],
   "source": [
    "from sklearn.ensemble import GradientBoostingClassifier\n",
    "grad = GradientBoostingClassifier().fit(X_train, y_train)\n",
    "print('Gradient Boosting accuracy : {}'.format(grad.score(X_test,y_test)))"
   ]
  }
 ],
 "metadata": {
  "kernelspec": {
   "display_name": "Python 3",
   "language": "python",
   "name": "python3"
  },
  "language_info": {
   "codemirror_mode": {
    "name": "ipython",
    "version": 3
   },
   "file_extension": ".py",
   "mimetype": "text/x-python",
   "name": "python",
   "nbconvert_exporter": "python",
   "pygments_lexer": "ipython3",
   "version": "3.7.10"
  },
  "papermill": {
   "default_parameters": {},
   "duration": 84.973727,
   "end_time": "2021-06-02T16:02:17.948788",
   "environment_variables": {},
   "exception": null,
   "input_path": "__notebook__.ipynb",
   "output_path": "__notebook__.ipynb",
   "parameters": {},
   "start_time": "2021-06-02T16:00:52.975061",
   "version": "2.3.3"
  }
 },
 "nbformat": 4,
 "nbformat_minor": 5
}
